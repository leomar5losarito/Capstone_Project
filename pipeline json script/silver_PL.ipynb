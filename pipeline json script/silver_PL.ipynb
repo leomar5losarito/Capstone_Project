{
 "cells": [
  {
   "cell_type": "code",
   "execution_count": 0,
   "metadata": {
    "application/vnd.databricks.v1+cell": {
     "cellMetadata": {},
     "inputWidgets": {},
     "nuid": "f47405e5-6ce3-406f-b924-b64e29cd8a93",
     "showTitle": false,
     "tableResultSettingsMap": {},
     "title": ""
    }
   },
   "outputs": [],
   "source": [
    "{\n",
    "    \"id\": \"bebda264-d0a3-424e-ae80-ac29e9f496db\",\n",
    "    \"pipeline_type\": \"WORKSPACE\",\n",
    "    \"development\": true,\n",
    "    \"notifications\": [\n",
    "        {\n",
    "            \"email_recipients\": [\n",
    "                \"lmlosarito@hotmail.com\"\n",
    "            ],\n",
    "            \"alerts\": [\n",
    "                \"on-update-success\",\n",
    "                \"on-update-failure\",\n",
    "                \"on-update-fatal-failure\",\n",
    "                \"on-flow-failure\"\n",
    "            ]\n",
    "        }\n",
    "    ],\n",
    "    \"continuous\": false,\n",
    "    \"channel\": \"PREVIEW\",\n",
    "    \"photon\": true,\n",
    "    \"libraries\": [\n",
    "        {\n",
    "            \"notebook\": {\n",
    "                \"path\": \"/Repos/CapstoneProject/Capstone_Project/notebooks/3_silver_dlt_pipelines_ingestions\"\n",
    "            }\n",
    "        }\n",
    "    ],\n",
    "    \"name\": \"silver_PL\",\n",
    "    \"serverless\": true,\n",
    "    \"catalog\": \"leomar\",\n",
    "    \"schema\": \"2silver\"\n",
    "}"
   ]
  }
 ],
 "metadata": {
  "application/vnd.databricks.v1+notebook": {
   "computePreferences": null,
   "dashboards": [],
   "environmentMetadata": {
    "base_environment": "",
    "environment_version": "3"
   },
   "inputWidgetPreferences": null,
   "language": "python",
   "notebookMetadata": {
    "pythonIndentUnit": 4
   },
   "notebookName": "silver_PL",
   "widgets": {}
  },
  "language_info": {
   "name": "python"
  }
 },
 "nbformat": 4,
 "nbformat_minor": 0
}
