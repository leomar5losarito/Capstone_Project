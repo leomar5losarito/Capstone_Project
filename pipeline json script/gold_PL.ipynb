{
 "cells": [
  {
   "cell_type": "code",
   "execution_count": 0,
   "metadata": {
    "application/vnd.databricks.v1+cell": {
     "cellMetadata": {},
     "inputWidgets": {},
     "nuid": "f4f9d0b6-568e-4c9b-9986-84b851ed66e2",
     "showTitle": false,
     "tableResultSettingsMap": {},
     "title": ""
    }
   },
   "outputs": [],
   "source": [
    "{\n",
    "    \"id\": \"b57c6978-cc0a-4779-b492-c2d8f71af1f7\",\n",
    "    \"pipeline_type\": \"WORKSPACE\",\n",
    "    \"development\": true,\n",
    "    \"continuous\": false,\n",
    "    \"channel\": \"PREVIEW\",\n",
    "    \"photon\": true,\n",
    "    \"libraries\": [\n",
    "        {\n",
    "            \"notebook\": {\n",
    "                \"path\": \"/Repos/CapstoneProject/Capstone_Project/notebooks/4_gold_dlt_pipelines_ingestions\"\n",
    "            }\n",
    "        }\n",
    "    ],\n",
    "    \"name\": \"gold_PL\",\n",
    "    \"serverless\": true,\n",
    "    \"catalog\": \"leomar\",\n",
    "    \"schema\": \"3gold\"\n",
    "}"
   ]
  }
 ],
 "metadata": {
  "application/vnd.databricks.v1+notebook": {
   "computePreferences": null,
   "dashboards": [],
   "environmentMetadata": {
    "base_environment": "",
    "environment_version": "3"
   },
   "inputWidgetPreferences": null,
   "language": "python",
   "notebookMetadata": {
    "pythonIndentUnit": 4
   },
   "notebookName": "gold_PL",
   "widgets": {}
  },
  "language_info": {
   "name": "python"
  }
 },
 "nbformat": 4,
 "nbformat_minor": 0
}
