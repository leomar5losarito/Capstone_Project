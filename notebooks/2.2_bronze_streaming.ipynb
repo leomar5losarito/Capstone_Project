{
 "cells": [
  {
   "cell_type": "code",
   "execution_count": 0,
   "metadata": {
    "application/vnd.databricks.v1+cell": {
     "cellMetadata": {
      "byteLimit": 2048000,
      "rowLimit": 10000
     },
     "inputWidgets": {},
     "nuid": "3b7e98f9-2fc0-4cf6-8ca1-174a4ec1b4da",
     "showTitle": false,
     "tableResultSettingsMap": {},
     "title": ""
    }
   },
   "outputs": [],
   "source": [
    "# Source path\n",
    "source_autoloader_path = \"/Volumes/leomar/1bronze/autoloader_files/\"\n",
    "\n",
    "# Checkpoint path\n",
    "checkpoint_path = \"/Volumes/leomar/1bronze/checkpoint/bronze_claims_stream/\"\n",
    "\n",
    "# Bronze claims_stream table\n",
    "target_bronze_table = \"leomar.1bronze.claims_stream\"\n",
    "\n",
    "# Step 2: Read the stream using Auto Loader pattern\n",
    "streaming_df = (spark.readStream\n",
    "    .format(\"cloudFiles\")  # Use Auto Loader\n",
    "    .option(\"cloudFiles.format\", \"json\")  # Specify format\n",
    "    .option(\"cloudFiles.schemaLocation\", checkpoint_path)  # Schema evolution tracking\n",
    "    .option(\"multiLine\", \"true\")  # Important for JSON\n",
    "    .option(\"escape\", '\"')\n",
    "    .load(source_autoloader_path)\n",
    ")\n",
    "\n",
    "# Add metadata columns - USE UC-COMPATIBLE METHOD\n",
    "from pyspark.sql.functions import current_timestamp, col\n",
    "streaming_df_with_metadata = (streaming_df\n",
    "    .withColumn(\"_source_file\", col(\"_metadata.file_path\"))  # UC-compatible file path\n",
    "    .withColumn(\"_ingestion_timestamp\", current_timestamp())\n",
    ")\n",
    "\n",
    "# Step 3: Start the Stream with AvailableNow trigger\n",
    "streaming_query = (streaming_df_with_metadata.writeStream\n",
    "    .format(\"delta\")\n",
    "    .outputMode(\"append\")  # Only append for Bronze layer\n",
    "    .option(\"checkpointLocation\", checkpoint_path)  # Exactly-once guarantee\n",
    "    .option(\"mergeSchema\", \"true\")  # Handle schema changes\n",
    "    .queryName(\"claims_stream_ingestion_query\")\n",
    "    .trigger(once=True)  # Use AvailableNow trigger (processed as micro-batch)-adding this as im currently using serverless continues stream is not supported in a server less account \n",
    "    .toTable(target_bronze_table)\n",
    ")\n",
    "\n",
    "\n",
    "display(streaming_query)\n",
    "\n",
    "# Wait for the termination of the query. This blocks the notebook cell, keeping the stream alive.\n",
    "# The stream will run until you manually stop it or an error occurs.\n",
    "streaming_query.awaitTermination()\n",
    "\n",
    "# If you need to stop the stream manually, you can run this command in a separate cell.\n",
    "# streaming_query.stop()\n",
    "     "
   ]
  }
 ],
 "metadata": {
  "application/vnd.databricks.v1+notebook": {
   "computePreferences": null,
   "dashboards": [],
   "environmentMetadata": {
    "base_environment": "",
    "environment_version": "3"
   },
   "inputWidgetPreferences": null,
   "language": "python",
   "notebookMetadata": {
    "pythonIndentUnit": 4
   },
   "notebookName": "2.2_bronze_streaming",
   "widgets": {}
  },
  "language_info": {
   "name": "python"
  }
 },
 "nbformat": 4,
 "nbformat_minor": 0
}
