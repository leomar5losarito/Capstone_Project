{
 "cells": [
  {
   "cell_type": "code",
   "execution_count": 0,
   "metadata": {
    "application/vnd.databricks.v1+cell": {
     "cellMetadata": {
      "byteLimit": 2048000,
      "rowLimit": 10000
     },
     "inputWidgets": {},
     "nuid": "da3ada59-43dc-4b06-b56b-4e012f86fd12",
     "showTitle": false,
     "tableResultSettingsMap": {},
     "title": ""
    }
   },
   "outputs": [],
   "source": [
    "# This cell ingests data into bronze via batch processing\n",
    "from pyspark.sql.types import StructType, StructField, StringType, ArrayType, BooleanType\n",
    "\n",
    "# Source file path\n",
    "github_files = \"/Volumes/leomar/1bronze/github_files\"\n",
    "\n",
    "# Get file list from github_files\n",
    "Files = dbutils.fs.ls(github_files)\n",
    "#print(Files)\n",
    "\n",
    "# Batch files\n",
    "batch_files = [f for f in Files]\n",
    "# print(batch_files)\n",
    "\n",
    "# Define schema with nullable = true for providers\n",
    "provider_schema = StructType([\n",
    "    StructField(\"ProviderID\", StringType(), True),\n",
    "    StructField(\"Name\", StringType(), True),\n",
    "    StructField(\"Specialties\", ArrayType(StringType()), True),\n",
    "    StructField(\"Locations\", ArrayType(StructType([ # Specify array values inside the Locations column\n",
    "        StructField(\"Address\", StringType(), True),\n",
    "        StructField(\"City\", StringType(), True),\n",
    "        StructField(\"State\", StringType(), True)\n",
    "    ])), True),\n",
    "    StructField(\"IsActive\", BooleanType(), True),\n",
    "    StructField(\"TIN\", StringType(), True),\n",
    "    StructField(\"LastVerified\", StringType(), True)\n",
    "])\n",
    "\n",
    "# Displays data ingestion process\n",
    "for file_info in batch_files:\n",
    "    file_path = file_info.path\n",
    "    file_name = file_info.name\n",
    "    base_table_name = file_name.split('.')[0]\n",
    "    \n",
    "    print(f\"\\nStarting ingestion for: {file_name}\")\n",
    "    \n",
    "    # Get file format\n",
    "    if file_name.endswith('.csv'):\n",
    "        df = (spark.read\n",
    "              .format(\"csv\")\n",
    "              .option(\"header\", \"true\")\n",
    "              .option(\"inferSchema\", \"true\")\n",
    "              .option(\"escape\", '\"')\n",
    "              .option(\"quote\", '\"')\n",
    "              .load(file_path)\n",
    "             )\n",
    "        \n",
    "    elif file_name.endswith('.json'):\n",
    "        df = (spark.read\n",
    "            .format(\"json\")\n",
    "            .option(\"mode\", \"PERMISSIVE\") \n",
    "            .option(\"columnNameOfCorruptRecord\", \"_corrupt_record\")\n",
    "            .load(file_path)\n",
    "            )\n",
    "        df = spark.read.schema(provider_schema).json(file_path)\n",
    "    else:\n",
    "        print(f\"Unsupported file format for: {file_name}...\")\n",
    "        continue\n",
    "\n",
    "    # Add metadata columns - USE UC-COMPATIBLE METHOD\n",
    "    from pyspark.sql.functions import current_timestamp, lit\n",
    "    df_with_metadata = (df\n",
    "        .withColumn(\"_source_file\", lit(file_path))  # Use lit() instead of input_file_name()\n",
    "        .withColumn(\"_ingestion_timestamp\", current_timestamp())\n",
    "    )\n",
    "    \n",
    "    full_target_table_name = f\"leomar.1bronze.{base_table_name}\"\n",
    "    \n",
    "    # Write the DataFrame to the Bronze Delta Table\n",
    "    (df_with_metadata.write\n",
    "     .format(\"delta\")\n",
    "     .mode(\"overwrite\") \n",
    "     .option(\"overwriteSchema\", \"true\")\n",
    "     .saveAsTable(full_target_table_name)\n",
    "    )\n",
    "    \n",
    "    print(f\"Successfully ingested {file_name} into table: {full_target_table_name}\")\n",
    "    print(f\"Number of records written: {df.count()}\")\n",
    "\n",
    "print(\"\\nAll files ingested succesfully!\")"
   ]
  }
 ],
 "metadata": {
  "application/vnd.databricks.v1+notebook": {
   "computePreferences": null,
   "dashboards": [],
   "environmentMetadata": {
    "base_environment": "",
    "environment_version": "3"
   },
   "inputWidgetPreferences": null,
   "language": "python",
   "notebookMetadata": {
    "pythonIndentUnit": 4
   },
   "notebookName": "2.1_bronze_ingestion_batch_processing",
   "widgets": {}
  },
  "language_info": {
   "name": "python"
  }
 },
 "nbformat": 4,
 "nbformat_minor": 0
}
