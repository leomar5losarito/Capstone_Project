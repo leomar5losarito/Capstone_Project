{
 "cells": [
  {
   "cell_type": "code",
   "execution_count": 0,
   "metadata": {
    "application/vnd.databricks.v1+cell": {
     "cellMetadata": {},
     "inputWidgets": {},
     "nuid": "6f94ff9c-c157-41c3-b908-f4b0efa776f0",
     "showTitle": false,
     "tableResultSettingsMap": {},
     "title": ""
    }
   },
   "outputs": [],
   "source": [
    "%sql\n",
    "---1 View for real-time Fraud detection alert\n",
    "CREATE OR REPLACE TEMPORARY VIEW fraud_detection_alerts AS\n",
    "SELECT \n",
    "  alert_timestamp,\n",
    "  alert_severity,\n",
    "  alert_reason,\n",
    "  claim_id,\n",
    "  member_id,\n",
    "  provider_id,\n",
    "  claim_amount,\n",
    "  diagnosis_code\n",
    "FROM medisure_jen.gold.gold_fraud_alerts\n",
    "WHERE date(alert_timestamp) = current_date()\n",
    "\n",
    "select * real_time_fraud_alerts"
   ]
  }
 ],
 "metadata": {
  "application/vnd.databricks.v1+notebook": {
   "computePreferences": null,
   "dashboards": [],
   "environmentMetadata": {
    "base_environment": "",
    "environment_version": "3"
   },
   "inputWidgetPreferences": null,
   "language": "python",
   "notebookMetadata": {
    "pythonIndentUnit": 4
   },
   "notebookName": "Fraud_detection_alert",
   "widgets": {}
  },
  "language_info": {
   "name": "python"
  }
 },
 "nbformat": 4,
 "nbformat_minor": 0
}
