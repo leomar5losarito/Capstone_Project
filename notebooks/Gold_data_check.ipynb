{
 "cells": [
  {
   "cell_type": "code",
   "execution_count": 0,
   "metadata": {
    "application/vnd.databricks.v1+cell": {
     "cellMetadata": {
      "byteLimit": 2048000,
      "rowLimit": 10000
     },
     "inputWidgets": {},
     "nuid": "917f00f4-d1e8-4e83-b147-f10ccb2ce44e",
     "showTitle": false,
     "tableResultSettingsMap": {},
     "title": ""
    }
   },
   "outputs": [],
   "source": [
    "df = spark.sql(\"SELECT * FROM leomar.3gold.claims_analytics\")\n",
    "display(df)"
   ]
  },
  {
   "cell_type": "code",
   "execution_count": 0,
   "metadata": {
    "application/vnd.databricks.v1+cell": {
     "cellMetadata": {
      "byteLimit": 2048000,
      "rowLimit": 10000
     },
     "inputWidgets": {},
     "nuid": "bff0b188-449d-4f19-acd9-887381b8eaed",
     "showTitle": false,
     "tableResultSettingsMap": {},
     "title": ""
    }
   },
   "outputs": [],
   "source": [
    "fraud = spark.sql(\"\"\"\n",
    "SELECT \n",
    "  processing_month,\n",
    "  COUNT(*) as total_claims,\n",
    "  SUM(CASE WHEN fraud_risk_score > 0.7 THEN 1 ELSE 0 END) as high_risk_claims,\n",
    "  ROUND(AVG(fraud_risk_score), 3) as avg_fraud_score,\n",
    "  ROUND(SUM(CASE WHEN fraud_risk_score > 0.7 THEN claim_amount ELSE 0 END), 2) as high_risk_amount\n",
    "FROM leomar.3gold.claims_analytics\n",
    "WHERE processing_month >= date_format(add_months(current_date(), -6), 'yyyy-MM')\n",
    "GROUP BY processing_month\n",
    "ORDER BY processing_month\n",
    "\"\"\")\n",
    "\n",
    "display(fraud)"
   ]
  },
  {
   "cell_type": "code",
   "execution_count": 0,
   "metadata": {
    "application/vnd.databricks.v1+cell": {
     "cellMetadata": {
      "byteLimit": 2048000,
      "rowLimit": 10000
     },
     "inputWidgets": {},
     "nuid": "d1f2afa2-fa84-4992-8852-43249f5194cb",
     "showTitle": false,
     "tableResultSettingsMap": {},
     "title": ""
    }
   },
   "outputs": [],
   "source": [
    "current_days_fraud = spark.sql(\"\"\"\n",
    "SELECT * FROM leomar.3gold.realtime_fraud_detection_alerts \n",
    "ORDER BY alert_severity DESC, alert_timestamp DESC\n",
    "\"\"\")"
   ]
  }
 ],
 "metadata": {
  "application/vnd.databricks.v1+notebook": {
   "computePreferences": null,
   "dashboards": [],
   "environmentMetadata": {
    "base_environment": "",
    "environment_version": "3"
   },
   "inputWidgetPreferences": null,
   "language": "python",
   "notebookMetadata": {
    "pythonIndentUnit": 4
   },
   "notebookName": "Gold_data_check",
   "widgets": {}
  },
  "language_info": {
   "name": "python"
  }
 },
 "nbformat": 4,
 "nbformat_minor": 0
}
